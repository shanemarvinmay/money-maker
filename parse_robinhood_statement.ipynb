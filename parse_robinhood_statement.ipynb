{
 "cells": [
  {
   "cell_type": "code",
   "execution_count": null,
   "id": "6577fde7-476c-4078-ab0a-58187ad9e5d3",
   "metadata": {},
   "outputs": [],
   "source": [
    "C:\\Users\\shane\\OneDrive\\Desktop\\workspace\\money-maker\\01_25_stock_statement.pdf"
   ]
  },
  {
   "cell_type": "code",
   "execution_count": 1,
   "id": "6ea67672-3cc4-4873-891f-fc9ccc32a0eb",
   "metadata": {},
   "outputs": [],
   "source": [
    "import pdfplumber"
   ]
  },
  {
   "cell_type": "code",
   "execution_count": 8,
   "id": "39d1371c-fd17-49d4-882f-7ac59f1d89f4",
   "metadata": {},
   "outputs": [],
   "source": [
    "path = '01_25_stock_statement.pdf'\n",
    "with pdfplumber.open(path) as pdf:\n",
    "    # help(pdf)\n",
    "    data = pdf.chars"
   ]
  },
  {
   "cell_type": "code",
   "execution_count": 13,
   "id": "a0d47ae5-4ef1-4890-afe7-d73e80fe7c9d",
   "metadata": {},
   "outputs": [],
   "source": [
    "raw_text = ''.join([i['text'] for i in data])"
   ]
  },
  {
   "cell_type": "code",
   "execution_count": 26,
   "id": "b37f4ca7-ebb9-4182-a7ec-866e84606adf",
   "metadata": {},
   "outputs": [],
   "source": [
    "portfolio_value_idx = raw_text.find('Portfolio Value')\n",
    "start_balance_idx = raw_text.find('$', portfolio_value_idx)\n",
    "end_balance_idx = raw_text.find('$', start_balance_idx+1)\n",
    "end_balances_idx = raw_text.find('.', end_balance_idx) + 3"
   ]
  },
  {
   "cell_type": "code",
   "execution_count": 28,
   "id": "30a42110-23ee-4026-a522-ae45fc53a298",
   "metadata": {},
   "outputs": [
    {
     "name": "stdout",
     "output_type": "stream",
     "text": [
      "starting balance $178,646.39\n",
      "ending balance $180,503.07\n"
     ]
    }
   ],
   "source": [
    "print('starting balance', raw_text[start_balance_idx:end_balance_idx])\n",
    "print('ending balance', raw_text[end_balance_idx:end_balances_idx])"
   ]
  },
  {
   "cell_type": "code",
   "execution_count": null,
   "id": "637957e5-8216-4079-811b-3cc89d3b69e0",
   "metadata": {},
   "outputs": [],
   "source": []
  }
 ],
 "metadata": {
  "kernelspec": {
   "display_name": "Python 3 (ipykernel)",
   "language": "python",
   "name": "python3"
  },
  "language_info": {
   "codemirror_mode": {
    "name": "ipython",
    "version": 3
   },
   "file_extension": ".py",
   "mimetype": "text/x-python",
   "name": "python",
   "nbconvert_exporter": "python",
   "pygments_lexer": "ipython3",
   "version": "3.11.4"
  }
 },
 "nbformat": 4,
 "nbformat_minor": 5
}
